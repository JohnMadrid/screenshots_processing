{
 "cells": [
  {
   "cell_type": "markdown",
   "metadata": {
    "pycharm": {
     "name": "#%% md\n"
    }
   },
   "source": [
    "# Images Processing\n",
    "Here three images datasets are processed in order to select the images to be used as input during experiment. A total of three datasets containing screenshots are analyzed. The screenshots were taken after reconstructing the participant's walk from a free exploration walk in a virtual city. Both head and eye tracking data were used and the images where taken using the eye tracking data. Images were saved to a \"screenshots\" folder with a respective csv file containing the information for each image that was taken."
   ]
  },
  {
   "cell_type": "markdown",
   "source": [
    "**TODO:**\n",
    "- _Is there  anything interesting in the EYE-Local data?_"
   ],
   "metadata": {
    "collapsed": false
   }
  },
  {
   "cell_type": "markdown",
   "source": [
    "## 2. Preprocessing\n",
    "When looking into the `df_b81` file, we found its dimensions are 163661 x 24, and it contains missing values which should be fixed or deleted."
   ],
   "metadata": {
    "collapsed": false
   }
  },
  {
   "cell_type": "code",
   "execution_count": 1,
   "outputs": [],
   "source": [
    "import numpy as np\n",
    "import os\n",
    "import shutil"
   ],
   "metadata": {
    "collapsed": false,
    "pycharm": {
     "name": "#%%\n"
    }
   }
  },
  {
   "cell_type": "code",
   "execution_count": null,
   "outputs": [],
   "source": [
    "path = ''\n",
    "path_face = path + '/faces'\n",
    "path_objects = path + '/objects'\n",
    "\n",
    "if not os.path.isdir(path_face):\n",
    "    os.mkdir(path_face)\n",
    "\n",
    "if not os.path.isdir(path_objects):\n",
    "    os.mkdir(path_objects)\n",
    "\n",
    "for file in os.listdir(path):\n",
    "    if file.lower().endswith('.png'):\n",
    "        fileparts = file.split('.')\n",
    "        if 'face' in fileparts[5]:\n",
    "            shutil.move(path + '/' + file, path_face + '/' + file)\n",
    "            print(f'Moving file {file} to folder {path_face}')\n",
    "        else:\n",
    "            shutil.move(path + '/' + file, path_objects + '/' + file)\n",
    "            print(f'Moving file {file} to folder {path_objects}')"
   ],
   "metadata": {
    "collapsed": false,
    "pycharm": {
     "name": "#%%\n"
    }
   }
  },
  {
   "cell_type": "code",
   "execution_count": null,
   "outputs": [],
   "source": [],
   "metadata": {
    "collapsed": false,
    "pycharm": {
     "name": "#%%\n"
    }
   }
  }
 ],
 "metadata": {
  "kernelspec": {
   "name": "python3810jvsc74a57bd03e020998c2fe0b254a9e4f093df7ec737de927d3a5d72205514527d8d04320e2",
   "language": "python",
   "display_name": "Python 3.8.10 64-bit (conda)"
  },
  "language_info": {
   "codemirror_mode": {
    "name": "ipython",
    "version": 3
   },
   "file_extension": ".py",
   "mimetype": "text/x-python",
   "name": "python",
   "nbconvert_exporter": "python",
   "pygments_lexer": "ipython3",
   "version": "3.8.10"
  }
 },
 "nbformat": 4,
 "nbformat_minor": 1
}