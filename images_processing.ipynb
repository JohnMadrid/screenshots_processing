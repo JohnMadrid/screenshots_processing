{
 "cells": [
  {
   "cell_type": "markdown",
   "metadata": {
    "pycharm": {
     "name": "#%% md\n"
    }
   },
   "source": [
    "# Images Processing\n",
    "Here three images datasets are processed in order to select the images to be used as input during experiment. A total of three datasets containing screenshots are analyzed. The screenshots were taken after reconstructing the participant's walk from a free exploration walk in a virtual city. Both head and eye tracking data were used and the images where taken using the eye tracking data. Images were saved to a \"screenshots\" folder with a respective csv file containing the information for each image that was taken."
   ]
  },
  {
   "cell_type": "markdown",
   "source": [
    "**TODO:**\n",
    "- _Is there  anything interesting in the EYE-Local data?_"
   ],
   "metadata": {
    "collapsed": false
   }
  },
  {
   "cell_type": "markdown",
   "source": [
    "## 2. Preprocessing\n",
    "When looking into the `df_b81` file, we found its dimensions are 163661 x 24, and it contains missing values which should be fixed or deleted."
   ],
   "metadata": {
    "collapsed": false
   }
  },
  {
   "cell_type": "code",
   "execution_count": 136,
   "outputs": [],
   "source": [
    "import numpy as np\n",
    "import pandas as pd\n",
    "import os\n",
    "import shutil"
   ],
   "metadata": {
    "collapsed": false,
    "pycharm": {
     "name": "#%%\n"
    }
   }
  },
  {
   "cell_type": "markdown",
   "source": [
    "### 1. Join reports\n",
    "Due to memory constrains, two out of the three replays creating the screenshots and the respective report had to be done in two sessions. In the first session, screenshots and report are automatically done from the participant's \"during-walk-gazes\" until the unity stops and crashes. Because we know the frame where the last picture is taken, in the second session, the replay is done and only after the frame is bigger than the frame from the latest picture taken, unity continues taking screenshots and making the respective report. Thus, we need to join report number one and number two for those reports with IDs that have two csv files."
   ],
   "metadata": {
    "collapsed": false
   }
  },
  {
   "cell_type": "code",
   "execution_count": null,
   "outputs": [],
   "source": [
    "r_path = 'data/reports'\n",
    "file1 = []\n",
    "file2 = []\n",
    "# access files in reports  folder and split\n",
    "for file in os.listdir(r_path):\n",
    "    if file.lower().endswith('.csv'):\n",
    "        fileparts = file.split('.')\n",
    "        # select file 1 and 2 separately\n",
    "        if fileparts[0].endswith('_1'):\n",
    "            file1.append(fileparts[0])\n",
    "        if fileparts[0].endswith('_2'):\n",
    "            file2.append(fileparts[0])"
   ],
   "metadata": {
    "collapsed": false,
    "pycharm": {
     "name": "#%%\n"
    }
   }
  },
  {
   "cell_type": "code",
   "execution_count": 135,
   "outputs": [],
   "source": [
    "# if saving to separate folder\n",
    "# path_joined = r_path + '/joined'\n",
    "for f1 in file1:\n",
    "    for f2 in file2:\n",
    "        # compare files ids and concatenate them when they match\n",
    "        if f1[:-2] == f2[:-2]:\n",
    "            if f1.endswith('_1'):\n",
    "                df = pd.concat(map(pd.read_csv, [r_path + '/' + f1 + '.csv', r_path + '/' + f2 + '.csv']), ignore_index=True)\n",
    "                # in case you want to save to separate folder\n",
    "                # if not os.path.isdir(path_joined):\n",
    "                #     os.mkdir(path_joined)\n",
    "                # save joined csv files\n",
    "                df.to_csv(os.path.join(r_path,f1[:-2]+'_joined'+'.csv'), index=False)"
   ],
   "metadata": {
    "collapsed": false,
    "pycharm": {
     "name": "#%%\n"
    }
   }
  },
  {
   "cell_type": "code",
   "execution_count": 141,
   "outputs": [
    {
     "data": {
      "text/plain": "               dateTime             hitName  rotation  distance   frame  \\\n0     22-07-07_19-12-53  baum ld0(enhanced)       180        21       1   \n1     22-07-07_19-12-54  baum ld0(enhanced)        19        52       3   \n2     22-07-07_19-12-54  baum ld0(enhanced)        19        52      15   \n3     22-07-07_19-12-55  baum ld0(enhanced)        19        52      19   \n4     22-07-07_19-12-55  baum ld0(enhanced)        20        52      25   \n...                 ...                 ...       ...       ...     ...   \n8347  22-07-07_21-44-41           Cathedral        33        45  124960   \n8348  22-07-07_21-44-41           Cathedral        33        45  124965   \n8349  22-07-07_21-44-42           Cathedral        33        45  124970   \n8350  22-07-07_21-44-42           Cathedral        33        45  124975   \n8351  22-07-07_21-44-42           Cathedral        33        45  124980   \n\n      %replayed  \n0             0  \n1             0  \n2             0  \n3             0  \n4             0  \n...         ...  \n8347         76  \n8348         76  \n8349         76  \n8350         76  \n8351         76  \n\n[8352 rows x 6 columns]",
      "text/html": "<div>\n<style scoped>\n    .dataframe tbody tr th:only-of-type {\n        vertical-align: middle;\n    }\n\n    .dataframe tbody tr th {\n        vertical-align: top;\n    }\n\n    .dataframe thead th {\n        text-align: right;\n    }\n</style>\n<table border=\"1\" class=\"dataframe\">\n  <thead>\n    <tr style=\"text-align: right;\">\n      <th></th>\n      <th>dateTime</th>\n      <th>hitName</th>\n      <th>rotation</th>\n      <th>distance</th>\n      <th>frame</th>\n      <th>%replayed</th>\n    </tr>\n  </thead>\n  <tbody>\n    <tr>\n      <th>0</th>\n      <td>22-07-07_19-12-53</td>\n      <td>baum ld0(enhanced)</td>\n      <td>180</td>\n      <td>21</td>\n      <td>1</td>\n      <td>0</td>\n    </tr>\n    <tr>\n      <th>1</th>\n      <td>22-07-07_19-12-54</td>\n      <td>baum ld0(enhanced)</td>\n      <td>19</td>\n      <td>52</td>\n      <td>3</td>\n      <td>0</td>\n    </tr>\n    <tr>\n      <th>2</th>\n      <td>22-07-07_19-12-54</td>\n      <td>baum ld0(enhanced)</td>\n      <td>19</td>\n      <td>52</td>\n      <td>15</td>\n      <td>0</td>\n    </tr>\n    <tr>\n      <th>3</th>\n      <td>22-07-07_19-12-55</td>\n      <td>baum ld0(enhanced)</td>\n      <td>19</td>\n      <td>52</td>\n      <td>19</td>\n      <td>0</td>\n    </tr>\n    <tr>\n      <th>4</th>\n      <td>22-07-07_19-12-55</td>\n      <td>baum ld0(enhanced)</td>\n      <td>20</td>\n      <td>52</td>\n      <td>25</td>\n      <td>0</td>\n    </tr>\n    <tr>\n      <th>...</th>\n      <td>...</td>\n      <td>...</td>\n      <td>...</td>\n      <td>...</td>\n      <td>...</td>\n      <td>...</td>\n    </tr>\n    <tr>\n      <th>8347</th>\n      <td>22-07-07_21-44-41</td>\n      <td>Cathedral</td>\n      <td>33</td>\n      <td>45</td>\n      <td>124960</td>\n      <td>76</td>\n    </tr>\n    <tr>\n      <th>8348</th>\n      <td>22-07-07_21-44-41</td>\n      <td>Cathedral</td>\n      <td>33</td>\n      <td>45</td>\n      <td>124965</td>\n      <td>76</td>\n    </tr>\n    <tr>\n      <th>8349</th>\n      <td>22-07-07_21-44-42</td>\n      <td>Cathedral</td>\n      <td>33</td>\n      <td>45</td>\n      <td>124970</td>\n      <td>76</td>\n    </tr>\n    <tr>\n      <th>8350</th>\n      <td>22-07-07_21-44-42</td>\n      <td>Cathedral</td>\n      <td>33</td>\n      <td>45</td>\n      <td>124975</td>\n      <td>76</td>\n    </tr>\n    <tr>\n      <th>8351</th>\n      <td>22-07-07_21-44-42</td>\n      <td>Cathedral</td>\n      <td>33</td>\n      <td>45</td>\n      <td>124980</td>\n      <td>76</td>\n    </tr>\n  </tbody>\n</table>\n<p>8352 rows × 6 columns</p>\n</div>"
     },
     "execution_count": 141,
     "metadata": {},
     "output_type": "execute_result"
    }
   ],
   "source": [
    "df_81 = pd.read_csv(r_path  + '/' + file1[0][:-2]+'_joined'+'.csv')\n",
    "df_81"
   ],
   "metadata": {
    "collapsed": false,
    "pycharm": {
     "name": "#%%\n"
    }
   }
  },
  {
   "cell_type": "code",
   "execution_count": 91,
   "outputs": [
    {
     "name": "stdout",
     "output_type": "stream",
     "text": [
      "02715e7a-5a68-471b-9e63-f056c5f0df81\n",
      "1dea5bd2-80d1-4068-b512-99c55f85f44c\n"
     ]
    }
   ],
   "source": [],
   "metadata": {
    "collapsed": false,
    "pycharm": {
     "name": "#%%\n"
    }
   }
  },
  {
   "cell_type": "code",
   "execution_count": null,
   "outputs": [],
   "source": [
    "path = ''\n",
    "path_face = path + '/faces'\n",
    "path_objects = path + '/objects'\n",
    "\n",
    "if not os.path.isdir(path_face):\n",
    "    os.mkdir(path_face)\n",
    "\n",
    "if not os.path.isdir(path_objects):\n",
    "    os.mkdir(path_objects)\n",
    "\n",
    "for file in os.listdir(path):\n",
    "    if file.lower().endswith('.png'):\n",
    "        fileparts = file.split('.')\n",
    "        if 'face' in fileparts[5]:\n",
    "            shutil.move(path + '/' + file, path_face + '/' + file)\n",
    "            print(f'Moving file {file} to folder {path_face}')\n",
    "        else:\n",
    "            shutil.move(path + '/' + file, path_objects + '/' + file)\n",
    "            print(f'Moving file {file} to folder {path_objects}')"
   ],
   "metadata": {
    "collapsed": false,
    "pycharm": {
     "name": "#%%\n"
    }
   }
  },
  {
   "cell_type": "markdown",
   "source": [
    "### Body gazes images"
   ],
   "metadata": {
    "collapsed": false
   }
  },
  {
   "cell_type": "code",
   "execution_count": null,
   "outputs": [],
   "source": [],
   "metadata": {
    "collapsed": false,
    "pycharm": {
     "name": "#%%\n"
    }
   }
  }
 ],
 "metadata": {
  "kernelspec": {
   "name": "python3810jvsc74a57bd03e020998c2fe0b254a9e4f093df7ec737de927d3a5d72205514527d8d04320e2",
   "language": "python",
   "display_name": "Python 3.8.10 64-bit (conda)"
  },
  "language_info": {
   "codemirror_mode": {
    "name": "ipython",
    "version": 3
   },
   "file_extension": ".py",
   "mimetype": "text/x-python",
   "name": "python",
   "nbconvert_exporter": "python",
   "pygments_lexer": "ipython3",
   "version": "3.8.10"
  }
 },
 "nbformat": 4,
 "nbformat_minor": 1
}