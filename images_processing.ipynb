{
 "cells": [
  {
   "cell_type": "markdown",
   "metadata": {
    "pycharm": {
     "name": "#%% md\n"
    }
   },
   "source": [
    "# Images Processing\n",
    "Here three images datasets are processed in order to select the images to be used as input during experiment. A total of three datasets containing screenshots are analyzed. The screenshots were taken after reconstructing the participant's walk from a free exploration walk in a virtual city. Both head and eye tracking data were used and the images where taken using the eye tracking data. Images were saved to a \"screenshots\" folder with a respective csv file containing the information for each image that was taken."
   ]
  },
  {
   "cell_type": "markdown",
   "source": [
    "**TODO:**\n",
    "- _Is there  anything interesting in the EYE-Local data?_"
   ],
   "metadata": {
    "collapsed": false
   }
  },
  {
   "cell_type": "markdown",
   "source": [
    "## 1. Preprocessing\n",
    "When looking into the `df_b81` file, we found its dimensions are 163661 x 24, and it contains missing values which should be fixed or deleted."
   ],
   "metadata": {
    "collapsed": false
   }
  },
  {
   "cell_type": "code",
   "execution_count": 120,
   "outputs": [],
   "source": [
    "import numpy as np\n",
    "import pandas as pd\n",
    "import os\n",
    "import shutil\n",
    "import glob"
   ],
   "metadata": {
    "collapsed": false,
    "pycharm": {
     "name": "#%%\n"
    }
   }
  },
  {
   "cell_type": "markdown",
   "source": [
    "### 1.1 Join reports\n",
    "Due to memory constrains, two out of the three replays creating the screenshots and the respective report had to be done in two sessions. In the first session, screenshots and report are automatically done from the participant's \"during-walk-gazes\" until the unity stops and crashes. Because we know the frame where the last picture is taken, in the second session, the replay is done and only after the frame is bigger than the frame from the latest picture taken, unity continues taking screenshots and making the respective report. Thus, we need to join report number one and number two for those reports with IDs that have two csv files."
   ],
   "metadata": {
    "collapsed": false
   }
  },
  {
   "cell_type": "code",
   "execution_count": 121,
   "outputs": [],
   "source": [
    "r_path = 'data/reports'\n",
    "file1 = []\n",
    "file2 = []\n",
    "# access files in reports  folder and split\n",
    "for file in os.listdir(r_path):\n",
    "    if file.lower().endswith('.csv'):\n",
    "        fileparts = file.split('.')\n",
    "        # select file 1 and 2 separately\n",
    "        if fileparts[0].endswith('_1'):\n",
    "            file1.append(fileparts[0])\n",
    "        if fileparts[0].endswith('_2'):\n",
    "            file2.append(fileparts[0])"
   ],
   "metadata": {
    "collapsed": false,
    "pycharm": {
     "name": "#%%\n"
    }
   }
  },
  {
   "cell_type": "code",
   "execution_count": 122,
   "outputs": [],
   "source": [
    "# if saving to separate folder\n",
    "path_joined = r_path + '/joined'\n",
    "for f1 in file1:\n",
    "    for f2 in file2:\n",
    "        # compare files ids and concatenate them when they match\n",
    "        if f1[:-2] == f2[:-2]:\n",
    "            if f1.endswith('_1'):\n",
    "                df = pd.concat(map(pd.read_csv, [r_path + '/' + f1 + '.csv', r_path + '/' + f2 + '.csv']), ignore_index=True)\n",
    "                # in case you want to save to separate folder\n",
    "                if not os.path.isdir(path_joined):\n",
    "                    os.mkdir(path_joined)\n",
    "                # save joined csv files\n",
    "                df.to_csv(os.path.join(path_joined,f1[:-2]+'_joined'+'.csv'), index=False)"
   ],
   "metadata": {
    "collapsed": false,
    "pycharm": {
     "name": "#%%\n"
    }
   }
  },
  {
   "cell_type": "code",
   "execution_count": 123,
   "outputs": [
    {
     "data": {
      "text/plain": "               dateTime             hitName  rotation  distance   frame  \\\n0     22-07-07_19-12-53  baum ld0(enhanced)       180        21       1   \n1     22-07-07_19-12-54  baum ld0(enhanced)        19        52       3   \n2     22-07-07_19-12-54  baum ld0(enhanced)        19        52      15   \n3     22-07-07_19-12-55  baum ld0(enhanced)        19        52      19   \n4     22-07-07_19-12-55  baum ld0(enhanced)        20        52      25   \n...                 ...                 ...       ...       ...     ...   \n8347  22-07-07_21-44-41           Cathedral        33        45  124960   \n8348  22-07-07_21-44-41           Cathedral        33        45  124965   \n8349  22-07-07_21-44-42           Cathedral        33        45  124970   \n8350  22-07-07_21-44-42           Cathedral        33        45  124975   \n8351  22-07-07_21-44-42           Cathedral        33        45  124980   \n\n      %replayed  toUse  \n0             0      0  \n1             0      0  \n2             0      0  \n3             0      0  \n4             0      0  \n...         ...    ...  \n8347         76      0  \n8348         76      0  \n8349         76      0  \n8350         76      0  \n8351         76      0  \n\n[8352 rows x 7 columns]",
      "text/html": "<div>\n<style scoped>\n    .dataframe tbody tr th:only-of-type {\n        vertical-align: middle;\n    }\n\n    .dataframe tbody tr th {\n        vertical-align: top;\n    }\n\n    .dataframe thead th {\n        text-align: right;\n    }\n</style>\n<table border=\"1\" class=\"dataframe\">\n  <thead>\n    <tr style=\"text-align: right;\">\n      <th></th>\n      <th>dateTime</th>\n      <th>hitName</th>\n      <th>rotation</th>\n      <th>distance</th>\n      <th>frame</th>\n      <th>%replayed</th>\n      <th>toUse</th>\n    </tr>\n  </thead>\n  <tbody>\n    <tr>\n      <th>0</th>\n      <td>22-07-07_19-12-53</td>\n      <td>baum ld0(enhanced)</td>\n      <td>180</td>\n      <td>21</td>\n      <td>1</td>\n      <td>0</td>\n      <td>0</td>\n    </tr>\n    <tr>\n      <th>1</th>\n      <td>22-07-07_19-12-54</td>\n      <td>baum ld0(enhanced)</td>\n      <td>19</td>\n      <td>52</td>\n      <td>3</td>\n      <td>0</td>\n      <td>0</td>\n    </tr>\n    <tr>\n      <th>2</th>\n      <td>22-07-07_19-12-54</td>\n      <td>baum ld0(enhanced)</td>\n      <td>19</td>\n      <td>52</td>\n      <td>15</td>\n      <td>0</td>\n      <td>0</td>\n    </tr>\n    <tr>\n      <th>3</th>\n      <td>22-07-07_19-12-55</td>\n      <td>baum ld0(enhanced)</td>\n      <td>19</td>\n      <td>52</td>\n      <td>19</td>\n      <td>0</td>\n      <td>0</td>\n    </tr>\n    <tr>\n      <th>4</th>\n      <td>22-07-07_19-12-55</td>\n      <td>baum ld0(enhanced)</td>\n      <td>20</td>\n      <td>52</td>\n      <td>25</td>\n      <td>0</td>\n      <td>0</td>\n    </tr>\n    <tr>\n      <th>...</th>\n      <td>...</td>\n      <td>...</td>\n      <td>...</td>\n      <td>...</td>\n      <td>...</td>\n      <td>...</td>\n      <td>...</td>\n    </tr>\n    <tr>\n      <th>8347</th>\n      <td>22-07-07_21-44-41</td>\n      <td>Cathedral</td>\n      <td>33</td>\n      <td>45</td>\n      <td>124960</td>\n      <td>76</td>\n      <td>0</td>\n    </tr>\n    <tr>\n      <th>8348</th>\n      <td>22-07-07_21-44-41</td>\n      <td>Cathedral</td>\n      <td>33</td>\n      <td>45</td>\n      <td>124965</td>\n      <td>76</td>\n      <td>0</td>\n    </tr>\n    <tr>\n      <th>8349</th>\n      <td>22-07-07_21-44-42</td>\n      <td>Cathedral</td>\n      <td>33</td>\n      <td>45</td>\n      <td>124970</td>\n      <td>76</td>\n      <td>0</td>\n    </tr>\n    <tr>\n      <th>8350</th>\n      <td>22-07-07_21-44-42</td>\n      <td>Cathedral</td>\n      <td>33</td>\n      <td>45</td>\n      <td>124975</td>\n      <td>76</td>\n      <td>0</td>\n    </tr>\n    <tr>\n      <th>8351</th>\n      <td>22-07-07_21-44-42</td>\n      <td>Cathedral</td>\n      <td>33</td>\n      <td>45</td>\n      <td>124980</td>\n      <td>76</td>\n      <td>0</td>\n    </tr>\n  </tbody>\n</table>\n<p>8352 rows × 7 columns</p>\n</div>"
     },
     "execution_count": 123,
     "metadata": {},
     "output_type": "execute_result"
    }
   ],
   "source": [
    "df_81 = pd.read_csv(path_joined  + '/' + file1[0][:-2]+'_joined'+'.csv')\n",
    "df_81"
   ],
   "metadata": {
    "collapsed": false,
    "pycharm": {
     "name": "#%%\n"
    }
   }
  },
  {
   "cell_type": "markdown",
   "source": [
    "### 1.2 Moving selected images"
   ],
   "metadata": {
    "collapsed": false
   }
  },
  {
   "cell_type": "code",
   "execution_count": 125,
   "outputs": [
    {
     "data": {
      "text/plain": "['BodyGazes_correTS_98ea619d-e75e-49b1-986d-07c3bf90ff6c',\n 'gazes_correTS_02715e7a-5a68-471b-9e63-f056c5f0df81',\n 'BodyGazes_correTS_1dea5bd2-80d1-4068-b512-99c55f85f44c',\n 'gazes_correTS_1dea5bd2-80d1-4068-b512-99c55f85f44c',\n 'BodyGazes_correTS_02715e7a-5a68-471b-9e63-f056c5f0df81',\n 'gazes_correTS_98ea619d-e75e-49b1-986d-07c3bf90ff6c']"
     },
     "execution_count": 125,
     "metadata": {},
     "output_type": "execute_result"
    }
   ],
   "source": [
    "j_path = 'data/reports/joined'\n",
    "\n",
    "report_id = []\n",
    "\n",
    "for file in os.listdir(j_path):\n",
    "    if file.lower().endswith('.csv'):\n",
    "        report_parts = file.split('.')\n",
    "        report_parts = report_parts[0].split('_')\n",
    "        r_id = report_parts[2] + '_' + report_parts[3] + '_' +report_parts[4]\n",
    "        report_id.append(r_id)\n",
    "report_id"
   ],
   "metadata": {
    "collapsed": false,
    "pycharm": {
     "name": "#%%\n"
    }
   }
  },
  {
   "cell_type": "code",
   "execution_count": 129,
   "outputs": [],
   "source": [
    "img_path = '/Volumes/Madrid/Screenshots'\n",
    "\n",
    "imgs_id = []\n",
    "\n",
    "for file in os.listdir(img_path):\n",
    "    if file.lower():\n",
    "        img_parts = file.split('_')\n",
    "        # print(img_parts)\n",
    "        img_id = img_parts[2] + '_' + img_parts[3] + '_' +img_parts[4]\n",
    "        imgs_id.append(img_id)"
   ],
   "metadata": {
    "collapsed": false,
    "pycharm": {
     "name": "#%%\n"
    }
   }
  },
  {
   "cell_type": "code",
   "execution_count": 133,
   "outputs": [
    {
     "name": "stdout",
     "output_type": "stream",
     "text": [
      "Working on /Volumes/Madrid/Screenshots/screenshots_new_BodyGazes_correTS_98ea619d-e75e-49b1-986d-07c3bf90ff6c ...\n",
      "Working on /Volumes/Madrid/Screenshots/screenshots_new_gazes_correTS_02715e7a-5a68-471b-9e63-f056c5f0df81 ...\n",
      "Copying FACE img.1600x1000.date.2022-07-07_19-16-01.hitname.face_422.rotation.47.distance.57.frame.6921.png...\n",
      "Copying FACE img.1600x1000.date.2022-07-07_19-16-23.hitname.face_428.rotation.98.distance.30.frame.7646.png...\n",
      "File Not Found: img.1600x1000.date.2022-07-07_19-2*-**.hitname.face_619.rotation.16.distance.95.frame.23636.png\n",
      "Copying FACE img.1600x1000.date.2022-07-07_19-33-21.hitname.face_603.rotation.25.distance.12.frame.39520.png...\n",
      "File Not Found: img.1600x1000.date.2022-07-07_19-3*-**.hitname.face_603.rotation.93.distance.5.frame.42337.png\n",
      "Copying FACE img.1600x1000.date.2022-07-07_19-36-57.hitname.face_4203.rotation.15.distance.2.frame.45894.png...\n",
      "Copying FACE img.1600x1000.date.2022-07-07_19-37-00.hitname.face_4208.rotation.54.distance.1.frame.46004.png...\n",
      "File Not Found: img.1600x1000.date.2022-07-07_19-3*-**.hitname.face_4203.rotation.92.distance.1.frame.47224.png\n",
      "Working on /Volumes/Madrid/Screenshots/screenshots_new_BodyGazes_correTS_1dea5bd2-80d1-4068-b512-99c55f85f44c ...\n",
      "Working on /Volumes/Madrid/Screenshots/screenshots_new_gazes_correTS_1dea5bd2-80d1-4068-b512-99c55f85f44c ...\n",
      "Working on /Volumes/Madrid/Screenshots/screenshots_new_BodyGazes_correTS_02715e7a-5a68-471b-9e63-f056c5f0df81 ...\n",
      "Working on /Volumes/Madrid/Screenshots/screenshots_new_gazes_correTS_98ea619d-e75e-49b1-986d-07c3bf90ff6c ...\n",
      "Copying FACE img.1600x1000.date.2022-07-12_00-23-26.hitname.face_410.rotation.14.distance.2.frame.55606.png...\n"
     ]
    }
   ],
   "source": [
    "# folder to move the images\n",
    "output_folder = 'data/images'\n",
    "\n",
    "for report in report_id:\n",
    "    for file in os.listdir(j_path):\n",
    "        if report in file:\n",
    "            report_file = os.path.join(j_path, file)\n",
    "            break\n",
    "\n",
    "    for path in os.listdir(img_path):\n",
    "        if report in path:\n",
    "            image_path = os.path.join(img_path, path)\n",
    "            image_path_name = path\n",
    "            break\n",
    "\n",
    "    report_dataset = pd.read_csv(report_file)\n",
    "    report_dataset = report_dataset[report_dataset['toUse'] == 1]\n",
    "\n",
    "    print(f\"Working on {image_path} ...\")\n",
    "\n",
    "    for _, row in report_dataset.iterrows():\n",
    "        image_name = 'img.1600x1000.date.20' + row['dateTime'][:-4] + '*-**.hitname.' + row['hitName'] + '.rotation.' + str(row['rotation'])  + '.distance.' + str(row['distance'])  + '.frame.' + str(row['frame']) + '.png'\n",
    "        files = glob.glob(os.path.join(image_path, image_name))\n",
    "        if len(files) == 0:\n",
    "            print(f\"File Not Found: {image_name}\")\n",
    "        else:\n",
    "            # copy the images in the respective folder from the external memory without overwriting them\n",
    "            if 'face' in row['hitName'].lower():\n",
    "                if not os.path.isfile(os.path.join(output_folder + '/faces', os.path.basename(files[0]))):\n",
    "                    print(f\"Copying FACE {os.path.basename(files[0])}...\")\n",
    "                    shutil.copy(files[0], os.path.join(output_folder + '/faces', os.path.basename(files[0])))\n",
    "            elif 'npc' in row['hitName'].lower():\n",
    "                if not os.path.isfile(os.path.join(output_folder + '/bodies', os.path.basename(files[0]))):\n",
    "                    print(f\"Copying BODY {os.path.basename(files[0])}...\")\n",
    "                    shutil.copy(files[0], os.path.join(output_folder + '/bodies', os.path.basename(files[0])))\n",
    "            else:\n",
    "                if not os.path.isfile(os.path.join(output_folder + '/objects', os.path.basename(files[0]))):\n",
    "                    print(f\"Copying objects {os.path.basename(files[0])}...\")\n",
    "                    shutil.copy(files[0], os.path.join(output_folder + '/objects', os.path.basename(files[0])))"
   ],
   "metadata": {
    "collapsed": false,
    "pycharm": {
     "name": "#%%\n"
    }
   }
  },
  {
   "cell_type": "code",
   "execution_count": null,
   "outputs": [],
   "source": [],
   "metadata": {
    "collapsed": false,
    "pycharm": {
     "name": "#%%\n"
    }
   }
  }
 ],
 "metadata": {
  "kernelspec": {
   "name": "python3",
   "language": "python",
   "display_name": "Python 3"
  },
  "language_info": {
   "codemirror_mode": {
    "name": "ipython",
    "version": 3
   },
   "file_extension": ".py",
   "mimetype": "text/x-python",
   "name": "python",
   "nbconvert_exporter": "python",
   "pygments_lexer": "ipython3",
   "version": "3.8.10"
  }
 },
 "nbformat": 4,
 "nbformat_minor": 1
}